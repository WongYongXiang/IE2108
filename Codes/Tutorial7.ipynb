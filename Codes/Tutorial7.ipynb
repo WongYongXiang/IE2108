{
 "cells": [
  {
   "cell_type": "code",
   "execution_count": 8,
   "metadata": {},
   "outputs": [],
   "source": [
    "#Qn3  merge sort algorithm O(n + m) time complexity\n",
    "\n",
    "from typing import List\n",
    "def mergesort(A: List, m: int, n: int) -> List: \n",
    "    if m > n:\n",
    "        s = n\n",
    "    else:\n",
    "        s = m\n",
    "    \n",
    "    B = []\n",
    "    if m < n:                  # B will contain the elements within m index denoted by s\n",
    "        for i in range(s):\n",
    "            B += [A[i]]\n",
    "    else:                      # B will contain the elements within n denoted by s\n",
    "        for i in range(s):\n",
    "            B  += [A[m + i]]\n",
    "        for i in range(m - 1, -1, -1):\n",
    "            A[n + i] = A[i]\n",
    "    # then compare the remaining subarray in A and \n",
    "    # the subarray in B, fill A from the beginning \n",
    "    # with smaller elements. q indicates\n",
    "    # the 1st filling space in A.\n",
    "        q = 0\n",
    "        r = 0\n",
    "        p = s\n",
    "        while (p < m + n) and (r < s):\n",
    "            if A[p] <= B[r]:\n",
    "                A[q] = A[p]\n",
    "                p += 1\n",
    "            else:\n",
    "                A[q] = B[r]\n",
    "                r += 1\n",
    "            q += 1\n",
    "        \n",
    "        while r < s:\n",
    "            A[q] = B[r]\n",
    "            r += 1\n",
    "            q += 1\n",
    "    return A\n",
    "\n",
    "    "
   ]
  },
  {
   "cell_type": "code",
   "execution_count": 9,
   "metadata": {},
   "outputs": [
    {
     "name": "stdout",
     "output_type": "stream",
     "text": [
      "Initial unsorted array:  [1, 2, 3, 5, 15, 20, 4, 9, 58]\n",
      "Sorted array:  [1, 2, 3, 4, 5, 9, 15, 20, 58]\n"
     ]
    }
   ],
   "source": [
    "A = [1, 2, 3, 5, 15, 20, 4, 9, 58]\n",
    "print(\"Initial unsorted array: \", A)\n",
    "m = 6\n",
    "n = 3\n",
    "mergesort(A, m, n)\n",
    "print(\"Sorted array: \", mergesort(A, m, n))"
   ]
  },
  {
   "cell_type": "code",
   "execution_count": 12,
   "metadata": {},
   "outputs": [],
   "source": [
    "#Qn 4 bubble sort using for loop   O(n^2) time complexity\n",
    "from typing import List\n",
    "def bubblesort(A: List) -> List:\n",
    "    n = len(A)\n",
    "    for i in range(0, n-1):\n",
    "        for j in range(n-1, i, -1):\n",
    "            if A[j] < A[j-1]:\n",
    "                A[j], A[j-1] = A[j-1], A[j]\n",
    "    return A"
   ]
  },
  {
   "cell_type": "code",
   "execution_count": 13,
   "metadata": {},
   "outputs": [],
   "source": [
    "#Qn 4 bubble sort using while loop  O(n^2) time complexity\n",
    "from typing import List\n",
    "def bubblesort(A: List) -> List: \n",
    "    n = len(A)\n",
    "    swapped = True\n",
    "    while swapped == True:\n",
    "        swapped = False\n",
    "        for i in range(1, n):\n",
    "            if A[i-1] > A[i]:\n",
    "                A[i-1], A[i] = A[i], A[i-1]\n",
    "                swapped = True\n",
    "        n -= 1\n",
    "    return A\n"
   ]
  }
 ],
 "metadata": {
  "kernelspec": {
   "display_name": "base",
   "language": "python",
   "name": "python3"
  },
  "language_info": {
   "codemirror_mode": {
    "name": "ipython",
    "version": 3
   },
   "file_extension": ".py",
   "mimetype": "text/x-python",
   "name": "python",
   "nbconvert_exporter": "python",
   "pygments_lexer": "ipython3",
   "version": "3.9.13"
  }
 },
 "nbformat": 4,
 "nbformat_minor": 2
}
