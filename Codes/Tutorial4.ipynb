{
 "cells": [
  {
   "cell_type": "code",
   "execution_count": 1,
   "id": "39fca367",
   "metadata": {},
   "outputs": [],
   "source": [
    "# Build a singly linked list"
   ]
  },
  {
   "cell_type": "code",
   "execution_count": 2,
   "id": "5f086049",
   "metadata": {},
   "outputs": [],
   "source": [
    "# Create a node with a data part and a next part"
   ]
  },
  {
   "cell_type": "code",
   "execution_count": 3,
   "id": "b5faa5cb",
   "metadata": {},
   "outputs": [],
   "source": [
    "class Node:\n",
    "    #Constructer\n",
    "    def __init__(self, data = None, next = None):\n",
    "        self.data = data\n",
    "        self.next = next\n",
    "\n",
    "# A Linked List Class with a single head node\n",
    "class LinkedList:\n",
    "    def __init__(self):\n",
    "        self.head = None\n",
    "\n",
    "# Insert a node to the linked list\n",
    "    def insert(self, data):\n",
    "        newNode = Node(data)\n",
    "        if (self.head):\n",
    "            current = self.head\n",
    "            while(current.next):\n",
    "                current = current.next\n",
    "            current.next = newNode\n",
    "        else:\n",
    "            self.head = newNode\n"
   ]
  },
  {
   "cell_type": "code",
   "execution_count": 4,
   "id": "045ee6d3",
   "metadata": {},
   "outputs": [
    {
     "name": "stdout",
     "output_type": "stream",
     "text": [
      "10\n",
      "10 -- 20 -- 30 -- "
     ]
    }
   ],
   "source": [
    "# Linked List with a single node\n",
    "\n",
    "LL = LinkedList()                        # create a linked list\n",
    "LL.head = Node(10)                       # head points to a node with a data = 10\n",
    "print(LL.head.data)                      # 10 will be printed\n",
    "LL.insert(20)                            # Now LL has two nodes: 10 - 20\n",
    "LL.insert(30)                            # Now LL has three nodes: 10 - 20 - 30\n",
    "current = LL.head                        # current is the head printer of LL\n",
    "while (current):                         # if current is not None\n",
    "    print(current.data, end = ' -- ')    # print current node\n",
    "    current = current.next               # advance to next node\n",
    "    \n",
    "## Expected output as follows:\n",
    "## 10\n",
    "## 10 -- 20 -- 30 -- "
   ]
  }
 ],
 "metadata": {
  "kernelspec": {
   "display_name": "Python 3 (ipykernel)",
   "language": "python",
   "name": "python3"
  },
  "language_info": {
   "codemirror_mode": {
    "name": "ipython",
    "version": 3
   },
   "file_extension": ".py",
   "mimetype": "text/x-python",
   "name": "python",
   "nbconvert_exporter": "python",
   "pygments_lexer": "ipython3",
   "version": "3.9.13"
  }
 },
 "nbformat": 4,
 "nbformat_minor": 5
}
