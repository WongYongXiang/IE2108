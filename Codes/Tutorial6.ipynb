{
 "cells": [
  {
   "cell_type": "code",
   "execution_count": 5,
   "metadata": {},
   "outputs": [],
   "source": [
    "def siftup(i, array):\n",
    "    parent_index = (i-1)//2\n",
    "    if (array[i] > array[parent_index] and i!= 0):\n",
    "        array[i], array[parent_index] = array[parent_index], array[i]\n",
    "        return siftup(parent_index, array)\n",
    "    return array"
   ]
  },
  {
   "cell_type": "code",
   "execution_count": 6,
   "metadata": {},
   "outputs": [
    {
     "data": {
      "text/plain": [
       "[110, 71, 104, 66, 27, 24, 8, 5, 32, 25, 18, 22, 23]"
      ]
     },
     "execution_count": 6,
     "metadata": {},
     "output_type": "execute_result"
    }
   ],
   "source": [
    "# Test Cases #\n",
    "A = [104,71, 24, 66, 27, 23, 8, 5, 32, 25, 18, 22, 110]\n",
    "siftup(12, A)"
   ]
  }
 ],
 "metadata": {
  "kernelspec": {
   "display_name": "base",
   "language": "python",
   "name": "python3"
  },
  "language_info": {
   "codemirror_mode": {
    "name": "ipython",
    "version": 3
   },
   "file_extension": ".py",
   "mimetype": "text/x-python",
   "name": "python",
   "nbconvert_exporter": "python",
   "pygments_lexer": "ipython3",
   "version": "3.9.13"
  }
 },
 "nbformat": 4,
 "nbformat_minor": 2
}
