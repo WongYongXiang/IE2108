{
 "cells": [
  {
   "cell_type": "markdown",
   "metadata": {},
   "source": [
    "## Personal Solution"
   ]
  },
  {
   "cell_type": "code",
   "execution_count": 1,
   "metadata": {
    "execution": {
     "iopub.execute_input": "2024-04-03T14:58:09.443132Z",
     "iopub.status.busy": "2024-04-03T14:58:09.442131Z",
     "iopub.status.idle": "2024-04-03T14:58:09.456143Z",
     "shell.execute_reply": "2024-04-03T14:58:09.456143Z"
    }
   },
   "outputs": [],
   "source": [
    "#Qn 1\n",
    "from typing import Dict, List\n",
    "class AdjacencyList:\n",
    "    def __init__(self, graph: Dict[int, int]):        \n",
    "        self.graph = graph\n",
    "    \n",
    "    def Indegree(self, vertex: int) -> List:\n",
    "        self.vertex = vertex\n",
    "        self.lst = []\n",
    "        for key in self.graph:\n",
    "            if self.vertex in self.graph[key]:\n",
    "                self.lst.append(key)\n",
    "        return len(self.lst), self.lst\n",
    "    \n",
    "    def Outdegree(self, vertex: int) -> List:\n",
    "        self.vertex = vertex\n",
    "        return len(self.graph[self.vertex]), self.graph[self.vertex]\n",
    "\n",
    "\n",
    "\n",
    "\n",
    "    "
   ]
  },
  {
   "cell_type": "code",
   "execution_count": 2,
   "metadata": {
    "execution": {
     "iopub.execute_input": "2024-04-03T14:58:09.458145Z",
     "iopub.status.busy": "2024-04-03T14:58:09.458145Z",
     "iopub.status.idle": "2024-04-03T14:58:09.472159Z",
     "shell.execute_reply": "2024-04-03T14:58:09.472159Z"
    }
   },
   "outputs": [
    {
     "name": "stdout",
     "output_type": "stream",
     "text": [
      "Result for first digraph\n",
      "(Number of Indegrees, direction of Indegree)\n",
      "Vertex 1:  (2, [2, 6])\n",
      "Vertex 2:  (2, [3, 7])\n",
      "(Number of Outdegrees, direction of Outdegree)\n",
      "Vertex 1:  (0, [])\n",
      "Vertex 6:  (2, [1, 7])\n",
      "--------------------------------------------------\n",
      "Result for second digraph\n",
      "(Number of Indegrees, direction of Indegree)\n",
      "Vertex 4:  (0, [])\n",
      "Vertex 5:  (1, [4])\n",
      "(Number of Outdegrees, direction of Outdegree)\n",
      "Vertex 4:  (1, [5])\n",
      "Vertex 5:  (0, [])\n"
     ]
    }
   ],
   "source": [
    "#Test cases\n",
    "graph1 = {\n",
    " 1: [],\n",
    " 2: [1],\n",
    " 3: [2],\n",
    " 6: [1, 7],\n",
    " 7: [2, 3]\n",
    " }\n",
    "\n",
    "graph2 = {\n",
    " 4: [5],\n",
    " 5: []\n",
    " }\n",
    "\n",
    "print(\"Result for first digraph\")\n",
    "lst1 = AdjacencyList(graph1)\n",
    "print(\"(Number of Indegrees, direction of Indegree)\")\n",
    "print(\"Vertex 1: \", lst1.Indegree(1))\n",
    "print(\"Vertex 2: \",lst1.Indegree(2))\n",
    "print(\"(Number of Outdegrees, direction of Outdegree)\")\n",
    "print(\"Vertex 1: \",lst1.Outdegree(1))\n",
    "print(\"Vertex 6: \",lst1.Outdegree(6))\n",
    "\n",
    "print(\"-\"*50)\n",
    "\n",
    "print(\"Result for second digraph\")\n",
    "lst2 = AdjacencyList(graph2)\n",
    "print(\"(Number of Indegrees, direction of Indegree)\")\n",
    "print(\"Vertex 4: \",lst2.Indegree(4))\n",
    "print(\"Vertex 5: \",lst2.Indegree(5))\n",
    "print(\"(Number of Outdegrees, direction of Outdegree)\")\n",
    "print(\"Vertex 4: \",lst2.Outdegree(4))\n",
    "print(\"Vertex 5: \",lst2.Outdegree(5))"
   ]
  },
  {
   "cell_type": "code",
   "execution_count": 3,
   "metadata": {
    "execution": {
     "iopub.execute_input": "2024-04-03T14:58:09.487675Z",
     "iopub.status.busy": "2024-04-03T14:58:09.486675Z",
     "iopub.status.idle": "2024-04-03T14:58:09.503690Z",
     "shell.execute_reply": "2024-04-03T14:58:09.503690Z"
    }
   },
   "outputs": [],
   "source": [
    "#Qn4 \n",
    "from typing import Dict, List\n",
    "\n",
    "class AdjacencyList:\n",
    "    def __init__(self, graph: Dict[int, int]):\n",
    "        self.graph = graph\n",
    "\n",
    "    def BFS(self, start: int) -> List:\n",
    "        self.s = start\n",
    "        self.reachable = self.graph[self.s]\n",
    "        self.visited = []\n",
    "        while self.reachable != []:\n",
    "            self.visited.append(self.s)\n",
    "            self.s = self.reachable[0]\n",
    "            self.reachable = self.reachable[1:]\n",
    "            for num in self.graph[self.s]:\n",
    "                if num not in self.visited and num not in self.reachable:\n",
    "                    self.reachable.append(num)\n",
    "        self.visited.append(self.s)\n",
    "        return self.visited\n",
    "\n",
    "        \n",
    "\n",
    "        "
   ]
  },
  {
   "cell_type": "code",
   "execution_count": 4,
   "metadata": {
    "execution": {
     "iopub.execute_input": "2024-04-03T14:58:09.505692Z",
     "iopub.status.busy": "2024-04-03T14:58:09.505692Z",
     "iopub.status.idle": "2024-04-03T14:58:09.518955Z",
     "shell.execute_reply": "2024-04-03T14:58:09.518955Z"
    }
   },
   "outputs": [
    {
     "data": {
      "text/plain": [
       "[2, 1, 3, 5, 4, 6, 8, 7, 9]"
      ]
     },
     "execution_count": 4,
     "metadata": {},
     "output_type": "execute_result"
    }
   ],
   "source": [
    "#Test Cases\n",
    "graph = {\n",
    " 1: [2, 4],\n",
    " 2: [1, 3, 5],\n",
    " 3: [2, 6],\n",
    " 4: [1, 5, 7],\n",
    " 5: [2, 4, 6, 8],\n",
    " 6: [3, 5, 9],\n",
    " 7: [4, 8],\n",
    " 8: [5, 7, 9],\n",
    " 9: [6, 8]\n",
    " }\n",
    "\n",
    "lst = AdjacencyList(graph)\n",
    "lst.BFS(2)"
   ]
  },
  {
   "cell_type": "markdown",
   "metadata": {},
   "source": [
    "## Suggested Solution"
   ]
  },
  {
   "cell_type": "code",
   "execution_count": 5,
   "metadata": {
    "execution": {
     "iopub.execute_input": "2024-04-03T14:58:09.520960Z",
     "iopub.status.busy": "2024-04-03T14:58:09.520960Z",
     "iopub.status.idle": "2024-04-03T14:58:09.534467Z",
     "shell.execute_reply": "2024-04-03T14:58:09.534467Z"
    }
   },
   "outputs": [],
   "source": [
    "#Qn1\n",
    "def calculate_indegree_outdegree(graph):\n",
    "    num_vertices = len(graph)\n",
    "    indegree = [0] * (num_vertices + 1)\n",
    "    outdegree = [0]* (num_vertices + 1)\n",
    "\n",
    "    # Calculate indegree and outdegree\n",
    "    for vertex in range(1, num_vertices + 1):\n",
    "        for neighbour in graph[vertex]:\n",
    "            outdegree[vertex] += 1\n",
    "            indegree[neighbour] += 1\n",
    "    return indegree, outdegree"
   ]
  },
  {
   "cell_type": "code",
   "execution_count": 6,
   "metadata": {
    "execution": {
     "iopub.execute_input": "2024-04-03T14:58:09.536469Z",
     "iopub.status.busy": "2024-04-03T14:58:09.536469Z",
     "iopub.status.idle": "2024-04-03T14:58:09.550481Z",
     "shell.execute_reply": "2024-04-03T14:58:09.550481Z"
    }
   },
   "outputs": [
    {
     "name": "stdout",
     "output_type": "stream",
     "text": [
      "Vertex 1: Indegree = 2, Outdegree = 0\n",
      "Vertex 2: Indegree = 2, Outdegree = 1\n",
      "Vertex 3: Indegree = 1, Outdegree = 1\n",
      "Vertex 4: Indegree = 0, Outdegree = 1\n",
      "Vertex 5: Indegree = 1, Outdegree = 0\n",
      "Vertex 6: Indegree = 0, Outdegree = 2\n",
      "Vertex 7: Indegree = 1, Outdegree = 2\n"
     ]
    }
   ],
   "source": [
    "#Test cases\n",
    "graph = {\n",
    "1: [],\n",
    "2: [1],\n",
    "3: [2],\n",
    "4: [5],\n",
    "5: [],\n",
    "6: [1, 7],\n",
    "7: [2, 3],\n",
    "}\n",
    "\n",
    "indegree, outdegree = calculate_indegree_outdegree(graph)\n",
    "# Print indegree and outdegree for each vertex\n",
    "for vertex in range(1, len(graph) + 1):\n",
    "    print(f\"Vertex {vertex}: Indegree = {indegree[vertex]}, Outdegree = {outdegree[vertex]}\")\n",
    "\n"
   ]
  },
  {
   "cell_type": "code",
   "execution_count": 7,
   "metadata": {
    "execution": {
     "iopub.execute_input": "2024-04-03T14:58:09.552483Z",
     "iopub.status.busy": "2024-04-03T14:58:09.552483Z",
     "iopub.status.idle": "2024-04-03T14:58:09.566497Z",
     "shell.execute_reply": "2024-04-03T14:58:09.566497Z"
    }
   },
   "outputs": [],
   "source": [
    "#qn 4 \n",
    "def bfs(graph, start):\n",
    "    visited = [False] * (len(graph) + 1) # Initialize visited array\n",
    "    queue = [] # Initialize a list as a queue for BFS\n",
    "    traversal_order = [] # To store the order of visited vertices\n",
    "    # Start BFS from the given vertex\n",
    "    queue.append(start)\n",
    "    visited[start] = True\n",
    "    while queue:\n",
    "        vertex = queue.pop(0) # Dequeue the front element\n",
    "        traversal_order.append(vertex)\n",
    "        for neighbor in graph[vertex]:\n",
    "            if not visited[neighbor]:\n",
    "                queue.append(neighbor)\n",
    "                visited[neighbor] = True\n",
    "    return traversal_order"
   ]
  },
  {
   "cell_type": "code",
   "execution_count": 8,
   "metadata": {
    "execution": {
     "iopub.execute_input": "2024-04-03T14:58:09.568498Z",
     "iopub.status.busy": "2024-04-03T14:58:09.568498Z",
     "iopub.status.idle": "2024-04-03T14:58:09.582516Z",
     "shell.execute_reply": "2024-04-03T14:58:09.582516Z"
    }
   },
   "outputs": [
    {
     "name": "stdout",
     "output_type": "stream",
     "text": [
      "BFS Traversal Order:\n",
      "2 1 3 5 4 6 8 7 9 "
     ]
    }
   ],
   "source": [
    "#Test cases\n",
    "graph = {\n",
    "1: [2, 4],\n",
    "2: [1, 3, 5],\n",
    "3: [2, 6],\n",
    "4: [1, 5, 7],\n",
    "5: [2, 4, 6, 8],\n",
    "6: [3, 5, 9],\n",
    "7: [4, 8],\n",
    "8: [5, 7, 9],\n",
    "9: [6, 8]\n",
    "}\n",
    "# Starting vertex for BFS\n",
    "start_vertex = 2\n",
    "\n",
    "# Perform BFS and get the traversal order\n",
    "order = bfs(graph, start_vertex)\n",
    "\n",
    "# Print the order of visited vertices\n",
    "print(\"BFS Traversal Order:\")\n",
    "for vertex in order:\n",
    "    print(vertex, end=\" \")"
   ]
  }
 ],
 "metadata": {
  "kernelspec": {
   "display_name": "base",
   "language": "python",
   "name": "python3"
  },
  "language_info": {
   "codemirror_mode": {
    "name": "ipython",
    "version": 3
   },
   "file_extension": ".py",
   "mimetype": "text/x-python",
   "name": "python",
   "nbconvert_exporter": "python",
   "pygments_lexer": "ipython3",
   "version": "3.9.13"
  }
 },
 "nbformat": 4,
 "nbformat_minor": 2
}
