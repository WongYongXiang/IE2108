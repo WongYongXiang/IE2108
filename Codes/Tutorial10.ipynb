{
 "cells": [
  {
   "cell_type": "code",
   "execution_count": 21,
   "metadata": {},
   "outputs": [],
   "source": [
    "#Qn 1\n",
    "from typing import Dict, List\n",
    "class AdjacencyList:\n",
    "    def __init__(self, graph: Dict[int, int]):        \n",
    "        self.graph = graph\n",
    "    \n",
    "    def Indegree(self, vertex: int) -> List:\n",
    "        self.vertex = vertex\n",
    "        self.lst = []\n",
    "        for key in self.graph:\n",
    "            if self.vertex in self.graph[key]:\n",
    "                self.lst.append(key)\n",
    "        return self.lst\n",
    "    \n",
    "    def Outdegree(self, vertex: int) -> List:\n",
    "        self.vertex = vertex\n",
    "        return self.graph[self.vertex]\n",
    "\n",
    "\n",
    "\n",
    "\n",
    "    "
   ]
  },
  {
   "cell_type": "code",
   "execution_count": 25,
   "metadata": {},
   "outputs": [
    {
     "name": "stdout",
     "output_type": "stream",
     "text": [
      "Result for first digraph\n",
      "[2, 6]\n",
      "[3, 7]\n",
      "[]\n",
      "[1, 7]\n",
      "Result for second digraph\n",
      "[]\n",
      "[4]\n",
      "[5]\n",
      "[]\n"
     ]
    }
   ],
   "source": [
    "#Test cases\n",
    "graph1 = {\n",
    " 1: [],\n",
    " 2: [1],\n",
    " 3: [2],\n",
    " 6: [1, 7],\n",
    " 7: [2, 3]\n",
    " }\n",
    "\n",
    "graph2 = {\n",
    " 4: [5],\n",
    " 5: []\n",
    " }\n",
    "\n",
    "print(\"Result for first digraph\")\n",
    "lst1 = AdjacencyList(graph1)\n",
    "print(lst1.Indegree(1))\n",
    "print(lst1.Indegree(2))\n",
    "print(lst1.Outdegree(1))\n",
    "print(lst1.Outdegree(6))\n",
    "\n",
    "print(\"Result for second digraph\")\n",
    "lst2 = AdjacencyList(graph2)\n",
    "print(lst2.Indegree(4))\n",
    "print(lst2.Indegree(5))\n",
    "print(lst2.Outdegree(4))\n",
    "print(lst2.Outdegree(5))"
   ]
  },
  {
   "cell_type": "code",
   "execution_count": 34,
   "metadata": {},
   "outputs": [],
   "source": [
    "#Qn4 \n",
    "from typing import Dict, List\n",
    "\n",
    "class AdjacencyList:\n",
    "    def __init__(self, graph: Dict[int, int]):\n",
    "        self.graph = graph\n",
    "\n",
    "    def BFS(self, start: int) -> List:\n",
    "        self.s = start\n",
    "        self.reachable = self.graph[self.s]\n",
    "        self.visited = []\n",
    "        while self.reachable != []:\n",
    "            self.visited.append(self.s)\n",
    "            self.s = self.reachable[0]\n",
    "            self.reachable = self.reachable[1:]\n",
    "            for num in self.graph[self.s]:\n",
    "                if num not in self.visited and num not in self.reachable:\n",
    "                    self.reachable.append(num)\n",
    "        self.visited.append(self.s)\n",
    "        return self.visited\n",
    "\n",
    "        \n",
    "\n",
    "        "
   ]
  },
  {
   "cell_type": "code",
   "execution_count": 32,
   "metadata": {},
   "outputs": [
    {
     "data": {
      "text/plain": [
       "[2, 1, 3, 5, 4, 6, 8, 7, 9]"
      ]
     },
     "execution_count": 32,
     "metadata": {},
     "output_type": "execute_result"
    }
   ],
   "source": [
    "#Test Cases\n",
    "graph = {\n",
    " 1: [2, 4],\n",
    " 2: [1, 3, 5],\n",
    " 3: [2, 6],\n",
    " 4: [1, 5, 7],\n",
    " 5: [2, 4, 6, 8],\n",
    " 6: [3, 5, 9],\n",
    " 7: [4, 8],\n",
    " 8: [5, 7, 9],\n",
    " 9: [6, 8]\n",
    " }\n",
    "\n",
    "lst = AdjacencyList(graph)\n",
    "lst.BFS(2)"
   ]
  }
 ],
 "metadata": {
  "kernelspec": {
   "display_name": "base",
   "language": "python",
   "name": "python3"
  },
  "language_info": {
   "codemirror_mode": {
    "name": "ipython",
    "version": 3
   },
   "file_extension": ".py",
   "mimetype": "text/x-python",
   "name": "python",
   "nbconvert_exporter": "python",
   "pygments_lexer": "ipython3",
   "version": "3.9.13"
  }
 },
 "nbformat": 4,
 "nbformat_minor": 2
}
