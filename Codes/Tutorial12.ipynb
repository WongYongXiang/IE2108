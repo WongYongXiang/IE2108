{
 "cells": [
  {
   "cell_type": "code",
   "execution_count": null,
   "metadata": {},
   "outputs": [],
   "source": [
    "#Qn 1 (General idea is to connect to nodes that are 2 hops away)\n",
    "from typing import Dict\n",
    "def Hop(graph: Dict[int, int]) -> Dict[int, int]:\n",
    "    pass\n"
   ]
  }
 ],
 "metadata": {
  "language_info": {
   "name": "python"
  }
 },
 "nbformat": 4,
 "nbformat_minor": 2
}
