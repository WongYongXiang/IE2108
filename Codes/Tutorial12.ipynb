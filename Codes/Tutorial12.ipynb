{
 "cells": [
  {
   "cell_type": "code",
   "execution_count": 4,
   "metadata": {},
   "outputs": [
    {
     "name": "stdout",
     "output_type": "stream",
     "text": [
      "Original Graph (adjacency list):\n",
      "{0: {1: 2, 2: 6}, 1: {0: 2, 3: 7, 5: 8}, 2: {0: 6, 3: 4}, 3: {1: 7, 2: 4, 4: 2}, 4: {3: 2, 5: 3}, 5: {1: 8, 4: 3}}\n",
      "\n",
      "Shortest path tree from source vertex 0 as represented by parent[]:\n",
      "parent[0] = -1\n",
      "parent[1] = 0\n",
      "parent[2] = 0\n",
      "parent[3] = 1\n",
      "parent[4] = 3\n",
      "parent[5] = 1\n",
      "\n",
      "Shortest distances from source vertex 0:\n",
      "Shortest distance from 0 to 0: 0\n",
      "Shortest distance from 0 to 1: 2\n",
      "Shortest distance from 0 to 2: 6\n",
      "Shortest distance from 0 to 3: 9\n",
      "Shortest distance from 0 to 4: 11\n",
      "Shortest distance from 0 to 5: 10\n"
     ]
    }
   ],
   "source": [
    "#Qn3\n",
    "import heapq\n",
    "\n",
    "class Graph:\n",
    "    def __init__(self,graph):\n",
    "        self.adjacency_list = graph\n",
    "        \n",
    "    def dijkstra(self, src):\n",
    "        V = len(self.adjacency_list)\n",
    "        distances = [float('inf')]*V\n",
    "        distances[src] = 0\n",
    "        priority_queue = [(0, src)]\n",
    "        parent = [-1] * V\n",
    "        visited = set()\n",
    "        while priority_queue:\n",
    "            current_distance, current_node = heapq.heappop(priority_queue)\n",
    "            if current_node in visited:\n",
    "                continue\n",
    "            visited.add(current_node)\n",
    "\n",
    "            for neighbour, weight in self.adjacency_list[current_node].items():\n",
    "                if neighbour not in visited:\n",
    "                    distance = current_distance + weight\n",
    "\n",
    "                    if distance < distances[neighbour]:\n",
    "                        distances[neighbour] = distance\n",
    "                        parent[neighbour] = current_node\n",
    "                        heapq.heappush(priority_queue, (distance, neighbour))\n",
    "        return distances, parent\n",
    "\n",
    "graph = {\n",
    " 0: {1: 2, 2: 6},\n",
    " 1: {0: 2, 3: 7, 5: 8},\n",
    " 2: {0: 6, 3: 4},\n",
    " 3: {1: 7, 2: 4, 4: 2},\n",
    " 4: {3: 2, 5: 3},\n",
    " 5: {1: 8, 4: 3}\n",
    "}\n",
    "\n",
    "source_vertex = 0\n",
    "g = Graph(graph)\n",
    "shortest_distances, parent = g.dijkstra(source_vertex)\n",
    "\n",
    "print(\"Original Graph (adjacency list):\")\n",
    "print(graph)\n",
    "\n",
    "print(f\"\\nShortest path tree from source vertex {source_vertex} as represented by parent[]:\")\n",
    "for i in range(len(parent)):\n",
    "    print(f\"parent[{i}] = {parent[i]}\")\n",
    "\n",
    "print(f\"\\nShortest distances from source vertex {source_vertex}:\")\n",
    "for i, distance in enumerate(shortest_distances):\n",
    "    print(f\"Shortest distance from {source_vertex} to {i}: {distance}\")"
   ]
  }
 ],
 "metadata": {
  "kernelspec": {
   "display_name": "Python 3",
   "language": "python",
   "name": "python3"
  },
  "language_info": {
   "codemirror_mode": {
    "name": "ipython",
    "version": 3
   },
   "file_extension": ".py",
   "mimetype": "text/x-python",
   "name": "python",
   "nbconvert_exporter": "python",
   "pygments_lexer": "ipython3",
   "version": "3.11.8"
  }
 },
 "nbformat": 4,
 "nbformat_minor": 2
}
