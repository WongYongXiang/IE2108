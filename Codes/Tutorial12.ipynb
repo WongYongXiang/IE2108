{
 "cells": [
  {
   "cell_type": "code",
   "execution_count": 1,
   "metadata": {},
   "outputs": [],
   "source": [
    "#Qn 1 (General idea is to connect to nodes that are 2 hops away)\n",
    "import copy\n",
    "def Hop(graph):\n",
    "     # Initialize the adjacency list for G' with the same vertices as G\n",
    "    graph_prime = {vertex: [] for vertex in graph}\n",
    "    \n",
    "    # Iterate through all vertices in G\n",
    "    for u in graph:\n",
    "        # Iterate through the neighbors of u in G\n",
    "        for v in graph[u]:\n",
    "            # Iterate through the neighbors of v in G\n",
    "            for w in graph[v]:\n",
    "                # Check if w is not equal to u (avoid self-loop)\n",
    "                if w != u:\n",
    "                    # Add an edge between u and w in G'\n",
    "                    if w not in graph_prime[u]:\n",
    "                        graph_prime[u].append(w)\n",
    "    return graph_prime\n"
   ]
  },
  {
   "cell_type": "code",
   "execution_count": 2,
   "metadata": {},
   "outputs": [
    {
     "data": {
      "text/plain": [
       "{'A': ['D', 'E'], 'B': ['C'], 'C': ['B'], 'D': ['A'], 'E': ['A']}"
      ]
     },
     "execution_count": 2,
     "metadata": {},
     "output_type": "execute_result"
    }
   ],
   "source": [
    "graph1 = {\n",
    "    'A': ['B', 'C'],\n",
    "    'B': ['A', 'D'],\n",
    "    'C': ['A', 'E'],\n",
    "    'D': ['B'],\n",
    "    'E': ['C']\n",
    "}\n",
    "\n",
    "Hop(graph1)"
   ]
  },
  {
   "cell_type": "code",
   "execution_count": 4,
   "metadata": {},
   "outputs": [],
   "source": [
    "#Qn 4 (It is just dikstra but with additional functionalities of printing the steps)\n",
    "import heapq\n",
    "class Graph:\n",
    "    def __init__(self, graph):\n",
    "        self.adjacency_list = graph\n",
    "\n",
    "    def dijkstra(self, src):\n",
    "        V = len(self.adjacency_list)\n",
    "        distances = [float(\"inf\")*V]\n",
    "        distances[src] = 0\n",
    "        priority_queue = [(0, src)] \n",
    "        parent = [-1]*V\n",
    "        visited = set()\n",
    "        step = 0\n",
    "\n",
    "        while priority_queue:\n",
    "            step += 1\n",
    "            print(\"Step \", step)\n",
    "            current_distance, current_node = heapq.heappop(priority_queue)\n",
    "            print(\"current_node: \", current_distance )\n",
    "            print(\"current_distance: \", current_node)\n",
    "            print(\"distances[current_node] : \", distances[current_node])\n",
    "            print(\"parent[current_node] : \", parent[current_node])\n",
    "\n",
    "            if current_node in visited:\n",
    "                print(\"node has already been visited\")\n",
    "                continue\n",
    "            visited.add(current_node)\n",
    "\n",
    "            for neighbour, weight in self.adjacency_list[current_node].items():\n",
    "                if neighbour not in visited:   \n",
    "                    distance = current_distance + weight\n",
    "                    if distance < distances[neighbour]:\n",
    "                        distances[neighbour] = distance\n",
    "                        parent[neighbour] = current_node\n",
    "                        heapq.heappush(priority_queue,(distance, neighbour))\n",
    "        return distances, parent    "
   ]
  }
 ],
 "metadata": {
  "kernelspec": {
   "display_name": "base",
   "language": "python",
   "name": "python3"
  },
  "language_info": {
   "codemirror_mode": {
    "name": "ipython",
    "version": 3
   },
   "file_extension": ".py",
   "mimetype": "text/x-python",
   "name": "python",
   "nbconvert_exporter": "python",
   "pygments_lexer": "ipython3",
   "version": "3.9.13"
  }
 },
 "nbformat": 4,
 "nbformat_minor": 2
}
