{
 "cells": [
  {
   "cell_type": "code",
   "execution_count": 4,
   "metadata": {},
   "outputs": [],
   "source": [
    "from typing import List"
   ]
  },
  {
   "cell_type": "code",
   "execution_count": 5,
   "metadata": {},
   "outputs": [],
   "source": [
    "#Q2 binary search algorithm O(logn) time complexity\n",
    "def binarysearch(lst: List, target: int):  #target return as the index position. return -1 if not found\n",
    "    if len(lst) == 0:\n",
    "        return -1\n",
    "\n",
    "    mid = len(lst) // 2\n",
    "    if lst[mid] == target:\n",
    "        return mid\n",
    "    elif lst[mid] < target:\n",
    "        result = binarysearch(lst[mid+1:], target)\n",
    "        if result == -1:\n",
    "            return -1\n",
    "        else:\n",
    "            return mid + 1 + result\n",
    "\n",
    "    else:\n",
    "        return binarysearch(lst[:mid], target)\n"
   ]
  },
  {
   "cell_type": "code",
   "execution_count": 10,
   "metadata": {},
   "outputs": [
    {
     "name": "stdout",
     "output_type": "stream",
     "text": [
      "0\n",
      "2\n"
     ]
    }
   ],
   "source": [
    "# Test cases\n",
    "A = [-10, 0, 5, 12, 20]\n",
    "print(binarysearch(A, -10))\n",
    "print(binarysearch(A, 5)) "
   ]
  },
  {
   "cell_type": "markdown",
   "metadata": {},
   "source": [
    "### Qn 6"
   ]
  },
  {
   "cell_type": "code",
   "execution_count": 6,
   "metadata": {},
   "outputs": [],
   "source": [
    "# Algorithm 1   Time complexity: O(n)    Space complexity: O(n)\n",
    "def power(x: int, n: int) -> int:\n",
    "    if n == 0:\n",
    "        return 1\n",
    "    else:\n",
    "        return x * power(x, n - 1)\n"
   ]
  },
  {
   "cell_type": "code",
   "execution_count": 7,
   "metadata": {},
   "outputs": [],
   "source": [
    "# Algorithm 2   Time complexity: O(logn)    Space complexity: O(logn)\n",
    "def power(x: int, n: int) -> int:\n",
    "    if n == 0:\n",
    "        return 1\n",
    "    else:\n",
    "        temp = power(x, n // 2)\n",
    "        result = temp * temp\n",
    "\n",
    "        if n % 2 == 1: # if n is odd\n",
    "            result *= x\n",
    "        return result"
   ]
  },
  {
   "cell_type": "code",
   "execution_count": 8,
   "metadata": {},
   "outputs": [],
   "source": [
    "# Algorithm 3   Time complexity: O(n)    Space complexity: O(1)\n",
    "def power(x: int, n: int) -> int:\n",
    "    result = 1\n",
    "\n",
    "    for _ in range(n):\n",
    "        result *= x\n",
    "        return result\n"
   ]
  }
 ],
 "metadata": {
  "kernelspec": {
   "display_name": "base",
   "language": "python",
   "name": "python3"
  },
  "language_info": {
   "codemirror_mode": {
    "name": "ipython",
    "version": 3
   },
   "file_extension": ".py",
   "mimetype": "text/x-python",
   "name": "python",
   "nbconvert_exporter": "python",
   "pygments_lexer": "ipython3",
   "version": "3.9.13"
  }
 },
 "nbformat": 4,
 "nbformat_minor": 2
}
