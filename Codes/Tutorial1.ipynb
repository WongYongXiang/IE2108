{
 "cells": [
  {
   "cell_type": "markdown",
   "id": "6e67067f",
   "metadata": {},
   "source": [
    "# Create the following variables: \n",
    "### p = \"Hello Singapore!\" \n",
    "### pp = \"I'm learning Python.\" \n",
    "### q = 10 \n",
    "### r = 10.2 "
   ]
  },
  {
   "cell_type": "code",
   "execution_count": 1,
   "id": "b0bd4388",
   "metadata": {},
   "outputs": [],
   "source": [
    "p = \"Hello Singapore!\"\n",
    "pp = \"I'm learning Python.\"\n",
    "q = 10\n",
    "r = 10.2"
   ]
  },
  {
   "cell_type": "markdown",
   "id": "315a7f26",
   "metadata": {},
   "source": [
    "## Display the variables, just make sure the variables are as what I expect. "
   ]
  },
  {
   "cell_type": "code",
   "execution_count": 2,
   "id": "3fc27b58",
   "metadata": {},
   "outputs": [
    {
     "name": "stdout",
     "output_type": "stream",
     "text": [
      "Hello Singapore!\n",
      "I'm learning Python.\n",
      "10\n",
      "10.2\n"
     ]
    }
   ],
   "source": [
    "print(p)\n",
    "print(pp)\n",
    "print(q)\n",
    "print(r)"
   ]
  },
  {
   "cell_type": "markdown",
   "id": "5cf80bca",
   "metadata": {},
   "source": [
    "## Display the data type (or class) of each variable. "
   ]
  },
  {
   "cell_type": "code",
   "execution_count": 3,
   "id": "5c42f9d1",
   "metadata": {},
   "outputs": [
    {
     "name": "stdout",
     "output_type": "stream",
     "text": [
      "<class 'str'>\n",
      "<class 'str'>\n",
      "<class 'int'>\n",
      "<class 'float'>\n"
     ]
    }
   ],
   "source": [
    "print(type(p))\n",
    "print(type(pp))\n",
    "print(type(q))\n",
    "print(type(r))"
   ]
  },
  {
   "cell_type": "markdown",
   "id": "40d92f15",
   "metadata": {},
   "source": [
    "## Display p + pp "
   ]
  },
  {
   "cell_type": "code",
   "execution_count": 4,
   "id": "85a3fbd5",
   "metadata": {},
   "outputs": [
    {
     "name": "stdout",
     "output_type": "stream",
     "text": [
      "Hello Singapore!I'm learning Python.\n"
     ]
    }
   ],
   "source": [
    "print(p+pp)"
   ]
  },
  {
   "cell_type": "markdown",
   "id": "2388d100",
   "metadata": {},
   "source": [
    "## Display q + r . "
   ]
  },
  {
   "cell_type": "code",
   "execution_count": 5,
   "id": "e331dcc4",
   "metadata": {},
   "outputs": [
    {
     "name": "stdout",
     "output_type": "stream",
     "text": [
      "20.2\n"
     ]
    }
   ],
   "source": [
    "print(q+r)"
   ]
  },
  {
   "cell_type": "markdown",
   "id": "df69f2d0",
   "metadata": {},
   "source": [
    "## Display range(10) . "
   ]
  },
  {
   "cell_type": "code",
   "execution_count": 6,
   "id": "b325fa18",
   "metadata": {},
   "outputs": [
    {
     "name": "stdout",
     "output_type": "stream",
     "text": [
      "range(0, 10)\n"
     ]
    }
   ],
   "source": [
    "print(range(10))"
   ]
  },
  {
   "cell_type": "markdown",
   "id": "7fcb4921",
   "metadata": {},
   "source": [
    "## Display list(range(10)) . "
   ]
  },
  {
   "cell_type": "code",
   "execution_count": 7,
   "id": "b1055e5e",
   "metadata": {},
   "outputs": [
    {
     "name": "stdout",
     "output_type": "stream",
     "text": [
      "[0, 1, 2, 3, 4, 5, 6, 7, 8, 9]\n"
     ]
    }
   ],
   "source": [
    "lst = list(range(10))\n",
    "print(lst)"
   ]
  },
  {
   "cell_type": "markdown",
   "id": "fd11f1fc",
   "metadata": {},
   "source": [
    "## Modify the above statement to display [1, 3, 5, 7, 9]. "
   ]
  },
  {
   "cell_type": "code",
   "execution_count": 8,
   "id": "7f62532a",
   "metadata": {},
   "outputs": [
    {
     "name": "stdout",
     "output_type": "stream",
     "text": [
      "[1, 3, 5, 7, 9]\n"
     ]
    }
   ],
   "source": [
    "j = 0 \n",
    "while j <5:\n",
    "    lst[j] = lst[j] + lst[j+1]\n",
    "    j += 1\n",
    "lst = lst[:5]\n",
    "print(lst)\n",
    "        "
   ]
  },
  {
   "cell_type": "markdown",
   "id": "1c663a46",
   "metadata": {},
   "source": [
    "## Modify the above statement to display [20, 18, 16, 14, 12]. "
   ]
  },
  {
   "cell_type": "code",
   "execution_count": 9,
   "id": "e185fecb",
   "metadata": {},
   "outputs": [
    {
     "name": "stdout",
     "output_type": "stream",
     "text": [
      "[20, 18, 16, 14, 12]\n"
     ]
    }
   ],
   "source": [
    "count = 0\n",
    "while len(lst) != count:\n",
    "    lst[count] = 21 - lst[count]\n",
    "    count += 1\n",
    "    \n",
    "print(lst)"
   ]
  },
  {
   "cell_type": "markdown",
   "id": "59b23312",
   "metadata": {},
   "source": [
    "## Create a list b with the following elements: 'data', 'and', 'book', 'structure', 'hello', 'st'.  \n",
    "## Display it to make sure that your command worked. "
   ]
  },
  {
   "cell_type": "code",
   "execution_count": 10,
   "id": "5e9c73b8",
   "metadata": {},
   "outputs": [
    {
     "name": "stdout",
     "output_type": "stream",
     "text": [
      "['data', 'and', 'book', 'structure', 'hello', 'st']\n"
     ]
    }
   ],
   "source": [
    "b = ['data', 'and', 'book', 'structure', 'hello', 'st']\n",
    "print(b)"
   ]
  },
  {
   "cell_type": "markdown",
   "id": "64d5f86f",
   "metadata": {},
   "source": [
    "## Append a number 32 to the end of the list and verify your command works. "
   ]
  },
  {
   "cell_type": "code",
   "execution_count": 11,
   "id": "d462b330",
   "metadata": {},
   "outputs": [
    {
     "name": "stdout",
     "output_type": "stream",
     "text": [
      "['data', 'and', 'book', 'structure', 'hello', 'st', 32]\n"
     ]
    }
   ],
   "source": [
    "b.append(32)\n",
    "print(b)"
   ]
  },
  {
   "cell_type": "markdown",
   "id": "3cec24f6",
   "metadata": {},
   "source": [
    "## What is the meaning of b[2:3]?  "
   ]
  },
  {
   "cell_type": "code",
   "execution_count": 12,
   "id": "2224025a",
   "metadata": {},
   "outputs": [
    {
     "name": "stdout",
     "output_type": "stream",
     "text": [
      "['book']\n"
     ]
    }
   ],
   "source": [
    "print(b[2:3])"
   ]
  },
  {
   "cell_type": "markdown",
   "id": "e4233545",
   "metadata": {},
   "source": [
    "## Remove the 3rd element of the list. "
   ]
  },
  {
   "cell_type": "code",
   "execution_count": 13,
   "id": "069df3a8",
   "metadata": {},
   "outputs": [
    {
     "name": "stdout",
     "output_type": "stream",
     "text": [
      "['data', 'and', 'structure', 'hello', 'st', 32]\n"
     ]
    }
   ],
   "source": [
    "del b[2]\n",
    "print(b)"
   ]
  },
  {
   "cell_type": "markdown",
   "id": "39d2757d",
   "metadata": {},
   "source": [
    "## Use a different command to remove the 1st element of the list. "
   ]
  },
  {
   "cell_type": "code",
   "execution_count": 14,
   "id": "540d1edd",
   "metadata": {},
   "outputs": [
    {
     "name": "stdout",
     "output_type": "stream",
     "text": [
      "['and', 'structure', 'hello', 'st', 32]\n"
     ]
    }
   ],
   "source": [
    "b = b[1:]\n",
    "print(b)"
   ]
  },
  {
   "cell_type": "markdown",
   "id": "cc3a85ad",
   "metadata": {},
   "source": [
    "## Display the number of elements in the list (the length of the list). "
   ]
  },
  {
   "cell_type": "code",
   "execution_count": 15,
   "id": "8c8f2dd3",
   "metadata": {},
   "outputs": [
    {
     "name": "stdout",
     "output_type": "stream",
     "text": [
      "5\n"
     ]
    }
   ],
   "source": [
    "print(len(b))"
   ]
  },
  {
   "cell_type": "markdown",
   "id": "f2572456",
   "metadata": {},
   "source": [
    "## For the following 2 values, check whether both are greater than 0 \n",
    "### a = 32 \n",
    "### b = 132 "
   ]
  },
  {
   "cell_type": "code",
   "execution_count": 16,
   "id": "bdb92a88",
   "metadata": {},
   "outputs": [
    {
     "name": "stdout",
     "output_type": "stream",
     "text": [
      "True\n",
      "True\n",
      "True\n"
     ]
    }
   ],
   "source": [
    "a = 32\n",
    "b = 132\n",
    "print(a > 0)\n",
    "print(b > 0)\n",
    "print( a > 0 and b >0)"
   ]
  },
  {
   "cell_type": "markdown",
   "id": "6a6c9832",
   "metadata": {},
   "source": [
    "## For the following 2 values, check whether at least one is greater than 0. \n",
    "### a = 32 \n",
    "### b = -32 "
   ]
  },
  {
   "cell_type": "code",
   "execution_count": 17,
   "id": "9fd5b747",
   "metadata": {},
   "outputs": [
    {
     "name": "stdout",
     "output_type": "stream",
     "text": [
      "True\n",
      "False\n",
      "True\n"
     ]
    }
   ],
   "source": [
    "a = 32\n",
    "b = -32\n",
    "print(a > 0)\n",
    "print(b > 0)\n",
    "print( a > 0 or b >0)"
   ]
  },
  {
   "cell_type": "markdown",
   "id": "08abf734",
   "metadata": {},
   "source": [
    "## What data type is person defined below? \n",
    "## person = {} "
   ]
  },
  {
   "cell_type": "code",
   "execution_count": 18,
   "id": "145238b2",
   "metadata": {},
   "outputs": [
    {
     "data": {
      "text/plain": [
       "dict"
      ]
     },
     "execution_count": 18,
     "metadata": {},
     "output_type": "execute_result"
    }
   ],
   "source": [
    "person = {}\n",
    "type(person)"
   ]
  },
  {
   "cell_type": "markdown",
   "id": "119bc8dd",
   "metadata": {},
   "source": [
    "## Display person after the following. \n",
    "### person['firstname'] = 'Jacky' \n",
    "### person['lastname'] = 'Chan' \n",
    "### person['age'] = 69 \n",
    "### person['address'] = ['Hong Kong'] "
   ]
  },
  {
   "cell_type": "code",
   "execution_count": 19,
   "id": "f7c5f22f",
   "metadata": {},
   "outputs": [
    {
     "name": "stdout",
     "output_type": "stream",
     "text": [
      "{'firstname': 'Jacky'}\n",
      "{'firstname': 'Jacky', 'lastname': 'Chan'}\n",
      "{'firstname': 'Jacky', 'lastname': 'Chan', 'age': 69}\n",
      "{'firstname': 'Jacky', 'lastname': 'Chan', 'age': 69, 'address': ['Hong Kong']}\n"
     ]
    }
   ],
   "source": [
    "person['firstname'] = 'Jacky' \n",
    "print(person)\n",
    "person['lastname'] = 'Chan' \n",
    "print(person)\n",
    "person['age'] = 69 \n",
    "print(person)\n",
    "person['address'] = ['Hong Kong'] \n",
    "print(person)"
   ]
  },
  {
   "cell_type": "markdown",
   "id": "0c3b028f",
   "metadata": {},
   "source": [
    "## Display his first name."
   ]
  },
  {
   "cell_type": "code",
   "execution_count": 20,
   "id": "074a1bc1",
   "metadata": {},
   "outputs": [
    {
     "name": "stdout",
     "output_type": "stream",
     "text": [
      "Jacky\n"
     ]
    }
   ],
   "source": [
    "print(person['firstname'])"
   ]
  },
  {
   "cell_type": "markdown",
   "id": "f1d30056",
   "metadata": {},
   "source": [
    "## Write a basic calculator that performs addition, subtraction, multiplication, and division. "
   ]
  },
  {
   "cell_type": "code",
   "execution_count": null,
   "id": "58e2ba20",
   "metadata": {},
   "outputs": [],
   "source": []
  },
  {
   "cell_type": "markdown",
   "id": "9927aa62",
   "metadata": {},
   "source": [
    "## Write a simple game where the user tries to guess a randomly generated number. \n",
    "## The program first selects a random number without telling you the number. \n",
    "## You make a guess. The program will tell you if too high or too low, until  \n",
    "## you guess it right.  \n",
    "### Hint: Use the following: \n",
    "### import random (for importing a library on random numbers) \n",
    "### random.randint(1, 100) (for generating a random integer between 1 and 100, including both 1 and \n",
    "### 100 themselves.) "
   ]
  },
  {
   "cell_type": "code",
   "execution_count": 22,
   "id": "55a33dea",
   "metadata": {},
   "outputs": [
    {
     "name": "stdout",
     "output_type": "stream",
     "text": [
      "Please enter a number from 1 to 100 5\n",
      "The number generated is 17\n",
      "The you have chosen is 5\n",
      "False\n"
     ]
    }
   ],
   "source": [
    "import random\n",
    "num = random.randint(1,100)\n",
    "while True:\n",
    "    try:\n",
    "        user = input(\"Please enter a number from 1 to 100 \")\n",
    "        user = int(user)\n",
    "        if user<1 or user >100 :\n",
    "            raise ValueError\n",
    "        break\n",
    "    except ValueError:\n",
    "        print('Invalid Input. Read the Intructions you retard')\n",
    "\n",
    "print(\"The number generated is \" + str(num))\n",
    "print(\"The you have chosen is \" + str(user))\n",
    "print(user == num)\n"
   ]
  },
  {
   "cell_type": "markdown",
   "id": "599dfd56",
   "metadata": {},
   "source": [
    "## Generate and print the first n numbers in the Fibonacci sequence \n",
    "## which is 0, 1, ..., with each subsequent number equal to the sum of \n",
    "## the previous 2 numbers. "
   ]
  },
  {
   "cell_type": "code",
   "execution_count": 27,
   "id": "e770f0c6",
   "metadata": {},
   "outputs": [
    {
     "name": "stdout",
     "output_type": "stream",
     "text": [
      "[0, 1, 1, 2, 3]\n",
      "[0, 1, 1, 2, 3, 5, 8, 13, 21, 34, 55, 89, 144, 233, 377]\n"
     ]
    }
   ],
   "source": [
    "def fib_seq(n):\n",
    "    seq = []\n",
    "    for i in range(n):\n",
    "        if i == 0 or i == 1:\n",
    "            seq.append(i)\n",
    "        else:\n",
    "            number = seq[i-1] + seq[i-2]\n",
    "            seq.append(number)\n",
    "    return seq\n",
    "\n",
    "#Test cases\n",
    "print(fib_seq(5))\n",
    "print(fib_seq(15))"
   ]
  },
  {
   "cell_type": "code",
   "execution_count": 29,
   "id": "c309ec62",
   "metadata": {},
   "outputs": [
    {
     "name": "stdout",
     "output_type": "stream",
     "text": [
      "3\n",
      "13\n"
     ]
    }
   ],
   "source": [
    "def fib(num):\n",
    "    if num == 0:\n",
    "        return 0\n",
    "    elif num == 1:\n",
    "        return 1\n",
    "    else:\n",
    "        return fib(num-1) + fib(num-2)\n",
    "    \n",
    "#Test cases\n",
    "print(fib(4))\n",
    "print(fib(7))\n",
    "    "
   ]
  },
  {
   "cell_type": "markdown",
   "id": "4da18d48",
   "metadata": {},
   "source": [
    "## Check if a given string is a palindrome (reads the same forwards and backwards). "
   ]
  },
  {
   "cell_type": "code",
   "execution_count": 26,
   "id": "0a75f401",
   "metadata": {},
   "outputs": [
    {
     "name": "stdout",
     "output_type": "stream",
     "text": [
      "True\n",
      "True\n",
      "False\n"
     ]
    }
   ],
   "source": [
    "def check_palindrome(string):\n",
    "    return string == string[::-1]\n",
    "\n",
    "#Test cases\n",
    "print(check_palindrome('racecar'))\n",
    "print(check_palindrome('radar'))\n",
    "print(check_palindrome('laptop'))"
   ]
  },
  {
   "cell_type": "code",
   "execution_count": null,
   "id": "dc2bf5f5",
   "metadata": {},
   "outputs": [],
   "source": []
  }
 ],
 "metadata": {
  "kernelspec": {
   "display_name": "Python 3 (ipykernel)",
   "language": "python",
   "name": "python3"
  },
  "language_info": {
   "codemirror_mode": {
    "name": "ipython",
    "version": 3
   },
   "file_extension": ".py",
   "mimetype": "text/x-python",
   "name": "python",
   "nbconvert_exporter": "python",
   "pygments_lexer": "ipython3",
   "version": "3.9.13"
  }
 },
 "nbformat": 4,
 "nbformat_minor": 5
}
