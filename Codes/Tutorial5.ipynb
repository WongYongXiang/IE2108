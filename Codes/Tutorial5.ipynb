{
 "cells": [
  {
   "cell_type": "markdown",
   "metadata": {},
   "source": [
    "## Question 5"
   ]
  },
  {
   "cell_type": "code",
   "execution_count": 7,
   "metadata": {},
   "outputs": [],
   "source": [
    "def jointTogether(primary, secondary):  #secondary list will be added to primary list\n",
    "    if len(secondary) == 0:\n",
    "        return primary\n",
    "    else:\n",
    "        primary.append(secondary.pop(0))\n",
    "        return jointTogether(primary, secondary)"
   ]
  },
  {
   "cell_type": "code",
   "execution_count": 8,
   "metadata": {},
   "outputs": [
    {
     "data": {
      "text/plain": [
       "[9, 3, 7, 1, 5, 10, 6, 2, 8, 4]"
      ]
     },
     "execution_count": 8,
     "metadata": {},
     "output_type": "execute_result"
    }
   ],
   "source": [
    "## Test cases\n",
    "Q = [9, 3, 7, 1, 5]\n",
    "P = [10, 6, 2, 8, 4]\n",
    "\n",
    "jointTogether(Q, P)"
   ]
  },
  {
   "cell_type": "markdown",
   "metadata": {},
   "source": [
    "## Python Practice"
   ]
  },
  {
   "cell_type": "code",
   "execution_count": 14,
   "metadata": {},
   "outputs": [],
   "source": [
    "class Node:\n",
    "    def __init__(self, data):\n",
    "        self.left = None\n",
    "        self.right = None\n",
    "        self.data = data\n",
    "\n",
    "    def insert(self, data):\n",
    "        # Compare the new value with the parent node\n",
    "        if self.data:                                   # not empty\n",
    "            if data < self.data:                        # go to the left subtree\n",
    "                if self.left is None:                   # no left subtree\n",
    "                    self.left = Node(data)              # place the node here\n",
    "                else:\n",
    "                    self.left.insert(data)              # call insert again()\n",
    "            elif data > self.data:                      # go to right subtree\n",
    "                if self.right is None:                  # no right subtree\n",
    "                    self.right = Node(data)\n",
    "                else:\n",
    "                    self.right.insert(data)             # call insert() again\n",
    "        else:\n",
    "            self.data = data                            # if empty, only data is inserted\n",
    "    \n",
    "    # Qn 3 Computing the number of leaves in the binary tree\n",
    "    def LeafCounter(self):\n",
    "        if self.data == None:                           # empty tree\n",
    "            return 0\n",
    "        elif self.left == None and self.right == None:  # single node tree\n",
    "            return 1\n",
    "        else:                                           # general tree\n",
    "            return self.left.LeafCounter() + self.right.LeafCounter()\n",
    "\n",
    "    # Qn 4 determining the height of a binary tree\n",
    "    def height(self):\n",
    "        if self.data == None:\n",
    "            return 0                                    # empty tree\n",
    "        elif self.left == None and self.right == None:  \n",
    "            return 1                                    # single node tree\n",
    "        else:\n",
    "            left_height = self.left.height()            # general tree\n",
    "            right_height = self.right.height()\n",
    "            if left_height > right_height:\n",
    "                return left_height + 1\n",
    "            else:\n",
    "                return right_height + 1\n",
    "\n",
    "    # Print the tree\n",
    "    def PrintTree(self):\n",
    "        if self.left:               # In-Order traversal\n",
    "            self.left.PrintTree()\n",
    "        print(self.data)\n",
    "        if self.right:\n",
    "            self.right.PrintTree()\n"
   ]
  },
  {
   "cell_type": "code",
   "execution_count": 16,
   "metadata": {},
   "outputs": [
    {
     "name": "stdout",
     "output_type": "stream",
     "text": [
      "3\n",
      "6\n",
      "10\n",
      "12\n",
      "14\n",
      "Height of the tree:  3\n",
      "Number of leaves:  3\n"
     ]
    }
   ],
   "source": [
    "# Test cases\n",
    "root = Node(12)\n",
    "root.insert(6)\n",
    "root.insert(14)\n",
    "root.insert(3)\n",
    "root.insert(10)\n",
    "root.PrintTree()\n",
    "print(\"Height of the tree: \", root.height())\n",
    "print(\"Number of leaves: \", root.LeafCounter())\n",
    "\n",
    "# How the Binary Tree looks like\n",
    "#              12\n",
    "#             /  \\\n",
    "#            6    14\n",
    "#           / \\  /\n",
    "#          3  10 3\n"
   ]
  },
  {
   "cell_type": "code",
   "execution_count": null,
   "metadata": {},
   "outputs": [],
   "source": []
  }
 ],
 "metadata": {
  "kernelspec": {
   "display_name": "base",
   "language": "python",
   "name": "python3"
  },
  "language_info": {
   "codemirror_mode": {
    "name": "ipython",
    "version": 3
   },
   "file_extension": ".py",
   "mimetype": "text/x-python",
   "name": "python",
   "nbconvert_exporter": "python",
   "pygments_lexer": "ipython3",
   "version": "3.9.13"
  }
 },
 "nbformat": 4,
 "nbformat_minor": 2
}
