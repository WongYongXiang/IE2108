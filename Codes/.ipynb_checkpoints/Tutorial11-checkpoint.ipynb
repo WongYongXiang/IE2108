{
 "cells": [
  {
   "cell_type": "code",
   "execution_count": 32,
   "metadata": {},
   "outputs": [],
   "source": [
    "## Depth first search concepts\n",
    "\n",
    "class TreeNode:\n",
    "    def __init__(self, key):\n",
    "        self.left = None\n",
    "        self.right = None\n",
    "        self.val = key\n",
    "    \n",
    "def dfs_traversal(root):\n",
    "    if root is None:\n",
    "        return []\n",
    "    \n",
    "    stack = []\n",
    "    traversal_order = []\n",
    "    stack.append(root)\n",
    "    \n",
    "    while stack:\n",
    "        node = stack.pop()\n",
    "        traversal_order.append(node.val)\n",
    "\n",
    "        if node.right:\n",
    "            stack.append(node.right)\n",
    "        if node.left:\n",
    "            stack.append(node.left)\n",
    "    return traversal_order"
   ]
  },
  {
   "cell_type": "code",
   "execution_count": 34,
   "metadata": {},
   "outputs": [],
   "source": [
    "#Qn2\n",
    "from typing import Dict, List\n",
    "\n",
    "def dfs(graph: Dict[int, int], vertex: int, visited: List):\n",
    "    if not visited[vertex]:\n",
    "        visited[vertex] = True\n",
    "        print(vertex, end = \" \")\n",
    "\n",
    "        for neighbor in graph[vertex]:\n",
    "            if not visited[neighbor]:\n",
    "                dfs(graph, neighbor, visited)\n"
   ]
  },
  {
   "cell_type": "code",
   "execution_count": 35,
   "metadata": {},
   "outputs": [
    {
     "name": "stdout",
     "output_type": "stream",
     "text": [
      "2 1 4 5 6 3 9 8 7 "
     ]
    }
   ],
   "source": [
    "#Test cases\n",
    "graph = {\n",
    " 1: [2, 4],\n",
    " 2: [1, 3, 5],\n",
    " 3: [2, 6],\n",
    " 4: [1, 5, 7],\n",
    " 5: [2, 4, 6, 8],\n",
    " 6: [3, 5, 9],\n",
    " 7: [4, 8],\n",
    " 8: [5, 7, 9],\n",
    " 9: [6, 8]\n",
    " }\n",
    "visited = [False] * (len(graph) + 1) \n",
    "dfs(graph, 2, visited)"
   ]
  },
  {
   "cell_type": "code",
   "execution_count": 37,
   "metadata": {},
   "outputs": [
    {
     "name": "stdout",
     "output_type": "stream",
     "text": [
      "4 3 2 1 5 6 7 8 12 11 14 10 9 13 15 16 "
     ]
    }
   ],
   "source": [
    "#Qn 3 using a program to check\n",
    "graph2 = {\n",
    " 1: [2, 5, 6],\n",
    " 2: [1, 3, 5, 7],\n",
    " 3: [2, 4, 7, 8],\n",
    " 4: [3, 8],\n",
    " 5: [1, 2, 6, 9],\n",
    " 6: [1, 5, 7, 10, 15],\n",
    " 7: [2, 3, 6, 8, 11],\n",
    " 8: [3, 4, 7, 12],\n",
    " 9: [5, 10, 13],\n",
    " 10: [6, 9, 13, 14],\n",
    " 11: [7, 12, 14, 15],\n",
    " 12: [8, 11, 16],\n",
    " 13: [9, 10],\n",
    " 14: [10, 11, 15],\n",
    " 15: [6, 11, 14, 16],\n",
    " 16: [12, 15]\n",
    " }\n",
    "visited = [False] * (len(graph2) + 1) \n",
    "dfs(graph2, 4, visited)"
   ]
  },
  {
   "cell_type": "code",
   "execution_count": 38,
   "metadata": {},
   "outputs": [],
   "source": [
    "#Qn4  (using function from tutorial 10 qn 4)\n",
    "from typing import Dict, List\n",
    "\n",
    "class AdjacencyList:\n",
    "    def __init__(self, graph: Dict[int, int]):\n",
    "        self.graph = graph\n",
    "\n",
    "    def BFS(self, start: int) -> List:\n",
    "        self.s = start\n",
    "        self.reachable = self.graph[self.s]\n",
    "        self.visited = []\n",
    "        while self.reachable != []:\n",
    "            self.visited.append(self.s)\n",
    "            self.s = self.reachable[0]\n",
    "            self.reachable = self.reachable[1:]\n",
    "            for num in self.graph[self.s]:\n",
    "                if num not in self.visited and num not in self.reachable:\n",
    "                    self.reachable.append(num)\n",
    "        self.visited.append(self.s)\n",
    "        return self.visited\n"
   ]
  },
  {
   "cell_type": "code",
   "execution_count": 39,
   "metadata": {},
   "outputs": [
    {
     "data": {
      "text/plain": [
       "[4, 3, 8, 2, 7, 12, 1, 5, 6, 11, 16, 9, 10, 15, 14, 13]"
      ]
     },
     "execution_count": 39,
     "metadata": {},
     "output_type": "execute_result"
    }
   ],
   "source": [
    "#Test cases\n",
    "lst = AdjacencyList(graph2)\n",
    "lst.BFS(4)"
   ]
  }
 ],
 "metadata": {
  "kernelspec": {
   "display_name": "base",
   "language": "python",
   "name": "python3"
  },
  "language_info": {
   "codemirror_mode": {
    "name": "ipython",
    "version": 3
   },
   "file_extension": ".py",
   "mimetype": "text/x-python",
   "name": "python",
   "nbconvert_exporter": "python",
   "pygments_lexer": "ipython3",
   "version": "3.9.13"
  }
 },
 "nbformat": 4,
 "nbformat_minor": 2
}
