{
 "cells": [
  {
   "cell_type": "markdown",
   "id": "7ec2ce83",
   "metadata": {},
   "source": [
    "### 1. Suppose that an array s contains float values.  \n",
    "### Write a Python program that prints the sum of the first 𝑚 float elements of s."
   ]
  },
  {
   "cell_type": "code",
   "execution_count": 9,
   "id": "b34adcfb",
   "metadata": {},
   "outputs": [
    {
     "name": "stdout",
     "output_type": "stream",
     "text": [
      "s = [1.23456, 3.98765, 7.54321, 4.123, 2.987654]\n",
      "Please enter sum of first 𝑚 float elements of s. m: 2\n"
     ]
    },
    {
     "data": {
      "text/plain": [
       "'5.22221'"
      ]
     },
     "execution_count": 9,
     "metadata": {},
     "output_type": "execute_result"
    }
   ],
   "source": [
    "s = [1.23456, 3.98765, 7.54321, 4.123, 2.987654]  #An example of an array containing float values\n",
    "print(\"s = [1.23456, 3.98765, 7.54321, 4.123, 2.987654]\")\n",
    "m = input(\"Please enter sum of first 𝑚 float elements of s. m: \")\n",
    "m = int(m)\n",
    "def Add(n):\n",
    "    summation = 0\n",
    "    for num in range(0, m):\n",
    "        summation += s[num]\n",
    "    summation = format(summation, \".5f\")\n",
    "    return summation\n",
    "Add(m)\n",
    "\n",
    "#Time Complexity O(n)"
   ]
  },
  {
   "cell_type": "markdown",
   "id": "55fca6f3",
   "metadata": {},
   "source": [
    "### 2. Write a Python program that prints the smallest and largest values in the array 𝑠 that stores 𝑚 unique elements. "
   ]
  },
  {
   "cell_type": "code",
   "execution_count": 11,
   "id": "242533a3",
   "metadata": {},
   "outputs": [
    {
     "name": "stdout",
     "output_type": "stream",
     "text": [
      "2.987654\n",
      "7.54321\n"
     ]
    }
   ],
   "source": [
    "s = [1.23456, 3.98765, 7.54321, 4.123, 2.987654, 1.23456, 3.98765] # Now the list contains both unique and duplicate elements\n",
    "\n",
    "def unique(num, array):\n",
    "    count = 0\n",
    "    for ele in array:\n",
    "        if num == ele and count > 0:\n",
    "            return False\n",
    "        elif num == ele:\n",
    "            count += 1\n",
    "    return True\n",
    "\n",
    "def find_unique_elements(array):\n",
    "    unique_elements = []\n",
    "    \n",
    "    for i in range(len(array)):\n",
    "        if unique(array[i], array):\n",
    "            unique_elements.append(array[i])\n",
    "    \n",
    "    return unique_elements\n",
    "\n",
    "def smol_large(array):\n",
    "    unique_elements = find_unique_elements(array)\n",
    "    \n",
    "    if len(unique_elements) < 2:\n",
    "        print(\"Not enough unique elements in the array.\")\n",
    "        return\n",
    "    \n",
    "    smol = unique_elements[0]\n",
    "    large = unique_elements[0]\n",
    "    \n",
    "    for ele in unique_elements[1:]:\n",
    "        if ele > large:\n",
    "            large = ele\n",
    "        elif ele < smol:\n",
    "            smol = ele\n",
    "    print(smol)\n",
    "    print(large)\n",
    "    \n",
    "smol_large(s)\n",
    "#Time Complexity: O(n^2)             \n",
    "        "
   ]
  },
  {
   "cell_type": "markdown",
   "id": "164345ab",
   "metadata": {},
   "source": [
    "### 3. Given an integer array 𝑠 with length 𝑛 > 1 such that 𝑠[𝑖] ≤ 𝑠[𝑖 + 1] for all 𝑖. \n",
    "### Write a Python program to insert an input value 𝑥 into the array so that the property 𝑠[𝑖] ≤ 𝑠[𝑖 + 1] is maintained for all 𝑖. "
   ]
  },
  {
   "cell_type": "code",
   "execution_count": 17,
   "id": "d0669d4a",
   "metadata": {},
   "outputs": [
    {
     "name": "stdout",
     "output_type": "stream",
     "text": [
      "[0, 1, 2, 3, 5, 5, 7, 8, 10]\n",
      "[1, 2, 3, 5, 5, 6, 7, 8, 10]\n",
      "[1, 2, 3, 5, 5, 7, 8, 10, 11]\n"
     ]
    }
   ],
   "source": [
    "s = [1, 2, 3, 5, 5, 7, 8, 10] #An example array (The qn is basically saying the array is a sorted ascending array)\n",
    "\n",
    "def insert(x, array):\n",
    "    for i in range(0, len(array)):\n",
    "        if i == len(array)-1:\n",
    "            array.append(x)\n",
    "            return array\n",
    "        elif x < array[i]:\n",
    "            array = array[:i] + [x] + array[i:]\n",
    "            return array\n",
    "print(insert(0,s))\n",
    "print(insert(6,s))\n",
    "print(insert(11,s))\n",
    "            \n",
    "#Time Complexity: O(n)        "
   ]
  },
  {
   "cell_type": "code",
   "execution_count": null,
   "id": "dd36b5e7",
   "metadata": {},
   "outputs": [],
   "source": []
  }
 ],
 "metadata": {
  "kernelspec": {
   "display_name": "Python 3 (ipykernel)",
   "language": "python",
   "name": "python3"
  },
  "language_info": {
   "codemirror_mode": {
    "name": "ipython",
    "version": 3
   },
   "file_extension": ".py",
   "mimetype": "text/x-python",
   "name": "python",
   "nbconvert_exporter": "python",
   "pygments_lexer": "ipython3",
   "version": "3.9.13"
  }
 },
 "nbformat": 4,
 "nbformat_minor": 5
}
