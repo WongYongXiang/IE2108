{
 "cells": [
  {
   "cell_type": "markdown",
   "metadata": {},
   "source": [
    "Qn1 \n",
    "(a)\n",
    "both a and b are max heap. c is not since vertice 6 is below its parent 5\n",
    "maxheap requires that the parent vertex be higher than its child, order does not matter in each level\n",
    "however, the leaf notes need to be in order of nodes(not the weight itself)"
   ]
  },
  {
   "cell_type": "markdown",
   "metadata": {},
   "source": [
    "(b) max no. nodes- summation of level 0 nodes to level h where each level is given by 2^h\n",
    "    min no. nodes- summation of (level 0 nodes to level h-1 where each level is given by 2^h) + 1"
   ]
  },
  {
   "cell_type": "markdown",
   "metadata": {},
   "source": [
    "(c) insert 65 to the bottom level(right child of 27) then using siftup function to swap the parent and child\n",
    "    if the child > parent in this case which is we need swap since 65> 27, then do it again until the inserted\n",
    "    node is lesser than its parent. In this case siftup will happen until after 50 and 65 is swapped."
   ]
  },
  {
   "cell_type": "markdown",
   "metadata": {},
   "source": [
    "(d) Idea is to remove the node H[1] in this case we choose 50 from the heap, then reaarrange it again such that the resultant structure of the binary tree is still a max heap.\n",
    "In this solution, I propose to replace the removed node 50 by the last node in the tree(7) then we perform a siftdown with the vertex being 7 now(of course the last node 7 is being shifted over so node 27 have no child now). Siftdown meaning that we swap the vertex down is the child is greater than its parent. Check if both of the left child and right child are filled with thier own left and right child respectively as well."
   ]
  },
  {
   "cell_type": "code",
   "execution_count": 7,
   "metadata": {},
   "outputs": [
    {
     "name": "stdout",
     "output_type": "stream",
     "text": [
      "!maxe\n",
      "!maxe\n"
     ]
    }
   ],
   "source": [
    "#Qn 2(a)\n",
    "\n",
    "def rerverse1(a_str):\n",
    "    result = \"\"\n",
    "    lst = list(a_str)\n",
    "    for i in range(len(lst)-1, -1, -1): #start, stop-not inclusive, step\n",
    "        result += lst[i] \n",
    "    return result\n",
    "\n",
    "print(rerverse1(\"exam!\"))\n",
    "\n",
    "#Alternatively, but try not to use this in exam as this solution is not what examiners probably want\n",
    "def reverse1_alt(a_str):\n",
    "    return a_str[::-1] #start, stop, step\n",
    "\n",
    "print(reverse1_alt(\"exam!\"))\n"
   ]
  },
  {
   "cell_type": "code",
   "execution_count": 2,
   "metadata": {},
   "outputs": [
    {
     "name": "stdout",
     "output_type": "stream",
     "text": [
      "!maxe\n"
     ]
    }
   ],
   "source": [
    "# (b)\n",
    "\n",
    "def reverse2(a_str):\n",
    "    if len(a_str) == 0:  ###or    if a_str == \"\":\n",
    "        return a_str\n",
    "    else:\n",
    "        return a_str[-1] + reverse2(a_str[:-1])\n",
    "    \n",
    "print(reverse2(\"exam!\"))"
   ]
  },
  {
   "cell_type": "markdown",
   "metadata": {},
   "source": [
    "(c) In terms of efficieny of the code, both (a) and (b) are O(n) since they go through every elements in linear time. If the question ask for space complexity, both are the same as well with O(n) space complexity as the space is determined by the length of the string.\n",
    "The alternative solution to (a) have the same time and space complexity as well due to the function working behind the string slicing"
   ]
  },
  {
   "cell_type": "code",
   "execution_count": 14,
   "metadata": {},
   "outputs": [
    {
     "data": {
      "text/plain": [
       "[2, 1, 3, 5, 4, 6, 8, 7, 9]"
      ]
     },
     "execution_count": 14,
     "metadata": {},
     "output_type": "execute_result"
    }
   ],
   "source": [
    "#Qn 3(a)\n",
    "\n",
    "def BFS(graph, start_vertex):\n",
    "    visited = [False] * (len(graph) + 1)\n",
    "    queue = []\n",
    "    traversal_order = []\n",
    "    queue.append(start_vertex)\n",
    "    visited[start_vertex] = True\n",
    "    while queue:\n",
    "        vertex = queue.pop(0)\n",
    "        traversal_order.append(vertex)\n",
    "        for neighbour in graph[vertex]:\n",
    "            if not visited[neighbour]:\n",
    "                queue.append(neighbour)\n",
    "                visited[neighbour] = True\n",
    "    return traversal_order\n",
    "\n"
   ]
  },
  {
   "cell_type": "code",
   "execution_count": null,
   "metadata": {},
   "outputs": [],
   "source": [
    "#(b)\n",
    "def path_exist(graph, start_vertex, target_vertex):\n",
    "    check = False\n",
    "    visited = [False] * (len(graph) + 1)\n",
    "    queue = []\n",
    "    traversal_order = []\n",
    "    queue.append(start_vertex)\n",
    "    visited[start_vertex] = True\n",
    "    while queue:\n",
    "        vertex = queue.pop(0)\n",
    "        traversal_order.append(vertex)\n",
    "        for neighbour in graph[vertex]:\n",
    "            if not visited[neighbour]:\n",
    "                queue.append(neighbour)\n",
    "                visited[neighbour] = True\n",
    "    if visited[target_vertex] == True: ##checking if target_vetex is visited, it it is there must be a path that exist\n",
    "        check = True\n",
    "    return check\n"
   ]
  },
  {
   "cell_type": "code",
   "execution_count": 15,
   "metadata": {},
   "outputs": [],
   "source": [
    "#(c)\n",
    "graph1 = {\n",
    "    \"A\": [\"B\",\"C\"],\n",
    "    \"B\": [\"A\",\"D\",\"E\"],\n",
    "    \"C\": [\"A\",\"F\"],\n",
    "    \"D\": [\"B\"],\n",
    "    \"E\": [\"B\",\"F\"],\n",
    "    \"F\": [\"C\",\"E\"],\n",
    "}"
   ]
  },
  {
   "cell_type": "code",
   "execution_count": 21,
   "metadata": {},
   "outputs": [],
   "source": [
    "#(d) since the code in part (a) makes use of indexes to traverse, we cant do that in figure 3\n",
    "#    as it consists of characters so we have to modify the code\n",
    "\n",
    "def BFS(graph, start_vertex):\n",
    "    visited = [False] * (len(graph) + 1)\n",
    "    queue = []\n",
    "    traversal_order = []\n",
    "    queue.append(start_vertex)\n",
    "    keys = []\n",
    "    for key in graph:\n",
    "        keys.append(key)\n",
    "    visited[keys.index(start_vertex)] = True  # use the index function instead since vetices are characters\n",
    "    while queue:\n",
    "        vertex = queue.pop(0)\n",
    "        traversal_order.append(vertex)\n",
    "        for neighbour in graph[vertex]:\n",
    "            if not visited[keys.index(neighbour)]:  #same for here as visited use indexing\n",
    "                queue.append(neighbour)\n",
    "                visited[keys.index(neighbour)] = True            #visited use indexing\n",
    "    return traversal_order"
   ]
  },
  {
   "cell_type": "code",
   "execution_count": 22,
   "metadata": {},
   "outputs": [
    {
     "name": "stdout",
     "output_type": "stream",
     "text": [
      "['A', 'B', 'C', 'D', 'E', 'F']\n"
     ]
    }
   ],
   "source": [
    "#check\n",
    "print(BFS(graph1, \"A\"))"
   ]
  },
  {
   "cell_type": "code",
   "execution_count": 25,
   "metadata": {},
   "outputs": [],
   "source": [
    "# (e) now we modify (b)\n",
    "\n",
    "def path_exist(graph, start_vertex, target_vertex):\n",
    "    check = False\n",
    "    visited = [False] * (len(graph) + 1)\n",
    "    queue = []\n",
    "    traversal_order = []\n",
    "    queue.append(start_vertex)\n",
    "    keys = []\n",
    "    for key in graph:\n",
    "        keys.append(key)\n",
    "    visited[keys.index(start_vertex)] = True  \n",
    "    while queue:\n",
    "        vertex = queue.pop(0)\n",
    "        traversal_order.append(vertex)\n",
    "        for neighbour in graph[vertex]:\n",
    "            if not visited[keys.index(neighbour)]:\n",
    "                queue.append(neighbour)\n",
    "                visited[keys.index(neighbour)] = True\n",
    "    if visited[keys.index(target_vertex)] == True: \n",
    "       check = True\n",
    "    return check"
   ]
  },
  {
   "cell_type": "code",
   "execution_count": 27,
   "metadata": {},
   "outputs": [
    {
     "name": "stdout",
     "output_type": "stream",
     "text": [
      "True\n"
     ]
    }
   ],
   "source": [
    "#check\n",
    "print(path_exist(graph1, \"A\", \"F\"))"
   ]
  },
  {
   "cell_type": "code",
   "execution_count": 1,
   "metadata": {},
   "outputs": [],
   "source": [
    "#Qn4(a)\n",
    "class DisjointSet:\n",
    "    def __init__(self, vertices):\n",
    "        self.parent = [-1] * (vertices + 1)\n",
    "\n",
    "    def find(self, node):\n",
    "        if self.parent[node] == -1:\n",
    "            return node\n",
    "        return self.find(self.parent[node])\n",
    "\n",
    "    def union(self, x, y):\n",
    "        x_set = self.find(x)\n",
    "        y_set = self.find(y)\n",
    "        if x_set != y_set:\n",
    "            self.parent[x_set] = y_set\n",
    "\n",
    "class Graph:\n",
    "    def __init__(self, vertices):\n",
    "        self.V = vertices + 1\n",
    "        self.adjacency_list = []\n",
    "\n",
    "    def add_edge(self, u, v, weight):\n",
    "        self.adjacency_list.append((u, v, weight))\n",
    "\n",
    "    def kruskal(self):\n",
    "        self.adjacency_list.sort(key=lambda x: x[2])  # Sort edges by weight\n",
    "        disjoint_set = DisjointSet(self.V)\n",
    "        mst = []\n",
    "\n",
    "        for edge in self.adjacency_list:\n",
    "            u, v, weight = edge\n",
    "            u_set = disjoint_set.find(u)\n",
    "            v_set = disjoint_set.find(v)\n",
    "\n",
    "            if u_set != v_set:\n",
    "                mst.append((u, v, weight))\n",
    "                disjoint_set.union(u, v)\n",
    "\n",
    "        return mst\n"
   ]
  },
  {
   "cell_type": "code",
   "execution_count": 2,
   "metadata": {},
   "outputs": [],
   "source": [
    "#(b) same algorithm\n",
    "def kruskal(self):\n",
    "    self.adjacency_list.sort(key=lambda x: x[2])\n",
    "    disjoint_set = DisjointSet(self.V)\n",
    "    mst = []\n",
    "    for edge in self.adjacency_list:\n",
    "        u, v, weight = edge\n",
    "        u_set = disjoint_set.find(u)\n",
    "        v_set = disjoint_set.find(v)\n",
    "        if u_set != v_set:\n",
    "            mst.append((u, v, weight))\n",
    "            disjoint_set.union(u, v)"
   ]
  },
  {
   "cell_type": "markdown",
   "metadata": {},
   "source": [
    "(c) what the kruskal algorithm does is that it takes in the adjacency list sorting the edges by its weight\n",
    "    Then assign all the individually disjoint vertices to a disjoint_set. then we traverse through the adjacency list in the order of its edges to determine which two nodes we will connect. if the two comparing variables u and v, we combine them to join a tree, where disjoint set class will take care of any of the loop. The result is the MST of the graph"
   ]
  },
  {
   "cell_type": "markdown",
   "metadata": {},
   "source": [
    "(d) under the conditions that there are more than a path for which to find obtain a MST with the same minimum cost, meaning that the graph contains edges with equal weights, and there are more than a way to select the edges without it forming a loop. In the figure given, there cannot be multiple MST because there is one single way to set the MST connecting the nodes with the minimum MST without forming a loop. Even though there are edges with the same weight for edges, the edges are connected independently and not directly through a single node"
   ]
  }
 ],
 "metadata": {
  "kernelspec": {
   "display_name": "base",
   "language": "python",
   "name": "python3"
  },
  "language_info": {
   "codemirror_mode": {
    "name": "ipython",
    "version": 3
   },
   "file_extension": ".py",
   "mimetype": "text/x-python",
   "name": "python",
   "nbconvert_exporter": "python",
   "pygments_lexer": "ipython3",
   "version": "3.9.13"
  }
 },
 "nbformat": 4,
 "nbformat_minor": 2
}
